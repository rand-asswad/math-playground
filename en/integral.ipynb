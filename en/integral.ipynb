{
 "cells": [
  {
   "cell_type": "code",
   "execution_count": 1,
   "id": "b53aa495-edfb-48b0-8e4f-7e5413e5ca18",
   "metadata": {},
   "outputs": [],
   "source": [
    "%matplotlib inline\n",
    "from ipywidgets import interactive, IntSlider, RadioButtons\n",
    "import matplotlib.pyplot as plt\n",
    "import numpy as np"
   ]
  },
  {
   "cell_type": "code",
   "execution_count": 2,
   "id": "92d46592-c94b-47f0-bae9-eb72be071d14",
   "metadata": {},
   "outputs": [
    {
     "data": {
      "application/vnd.jupyter.widget-view+json": {
       "model_id": "1b9ef21679c4481db03d39f8410dfbde",
       "version_major": 2,
       "version_minor": 0
      },
      "text/plain": [
       "interactive(children=(IntSlider(value=10, description='N', max=50, min=1), RadioButtons(description='startpoin…"
      ]
     },
     "execution_count": 2,
     "metadata": {},
     "output_type": "execute_result"
    }
   ],
   "source": [
    "f = lambda x : 1/(1+x**2)\n",
    "a, b = 0, 5\n",
    "\n",
    "def plot_riemann_sum(N, startpoint):\n",
    "    plt.figure(figsize=(10,5))\n",
    "    plt.title('Riemann Sum ({}), N = {}'.format(startpoint, N))\n",
    "    \n",
    "    # plot function\n",
    "    x = np.linspace(a, b, 100)\n",
    "    plt.plot(x, f(x), 'b')\n",
    "    \n",
    "    # plot sum\n",
    "    x = np.linspace(a, b, N+1)\n",
    "    dx = (b-a)/N\n",
    "    if startpoint == 'left':\n",
    "        X, Y = x[:-1], f(x)[:-1]\n",
    "        X_bar = X\n",
    "    elif startpoint == 'right':\n",
    "        X, Y = x[1:], f(x)[1:]\n",
    "        X_bar = X - dx\n",
    "    else:\n",
    "        ValueError(\"startpoint has to be 'left' or 'right'\")\n",
    "    plt.plot(X, Y, 'b.', markersize=10)\n",
    "    plt.bar(X_bar, Y, width=dx, alpha=0.2, align='edge', edgecolor='b')\n",
    "    \n",
    "    # calculate sum\n",
    "    s = np.sum(Y) * dx\n",
    "    plt.title('{} Riemann Sum = {} for N = {}'.format(startpoint.capitalize(), round(s, 5), N))\n",
    "    plt.show()\n",
    "    return s\n",
    "\n",
    "N_slider = IntSlider(min=1, max=50, step=1, value=10)\n",
    "riemann_sum_plot = interactive(plot_riemann_sum, N=N_slider,\n",
    "                               startpoint=RadioButtons(options=['left', 'right']))\n",
    "riemann_sum_plot"
   ]
  },
  {
   "cell_type": "code",
   "execution_count": 3,
   "id": "5ba26ac2-1f95-45a0-a643-b380ffa1a14e",
   "metadata": {},
   "outputs": [
    {
     "data": {
      "application/vnd.jupyter.widget-view+json": {
       "model_id": "4d891c93d80c4cb3994ef041afaf456b",
       "version_major": 2,
       "version_minor": 0
      },
      "text/plain": [
       "interactive(children=(IntSlider(value=10, description='N', max=50, min=1), Output()), _dom_classes=('widget-in…"
      ]
     },
     "execution_count": 3,
     "metadata": {},
     "output_type": "execute_result"
    }
   ],
   "source": [
    "def plot_trapezoid_rule(N):\n",
    "    plt.figure(figsize=(10,5))\n",
    "    plt.title('Trapezoid Rule, N = {}'.format(N))\n",
    "    \n",
    "    # plot function\n",
    "    x = np.linspace(a, b, 100)\n",
    "    plt.plot(x, f(x), 'b')\n",
    "    \n",
    "    # plot trapezoids\n",
    "    x = np.linspace(a, b, N+1)\n",
    "    y = f(x)\n",
    "    dx = (b-a)/N\n",
    "    plt.plot(x, y, 'b.', markersize=10)\n",
    "    \n",
    "    for i in range(N):\n",
    "        xt = [x[i], x[i], x[i+1], x[i+1]]\n",
    "        yt = [0, y[i], y[i+1], 0]\n",
    "        plt.fill(xt, yt, 'b', edgecolor='b', alpha=0.2)\n",
    "    \n",
    "    # calculate trapezoids\n",
    "    s = np.sum(y[:-1] + y[1:]) * (dx/2)\n",
    "    plt.title('Trapezoid Rule Sum = {} for N = {}'.format(round(s, 5), N))\n",
    "    plt.show()\n",
    "    return s\n",
    "\n",
    "trapezoid_plot = interactive(plot_trapezoid_rule, N=N_slider)\n",
    "trapezoid_plot"
   ]
  }
 ],
 "metadata": {
  "kernelspec": {
   "display_name": "math-venv",
   "language": "python",
   "name": "math-venv"
  },
  "language_info": {
   "codemirror_mode": {
    "name": "ipython",
    "version": 3
   },
   "file_extension": ".py",
   "mimetype": "text/x-python",
   "name": "python",
   "nbconvert_exporter": "python",
   "pygments_lexer": "ipython3",
   "version": "3.8.10"
  }
 },
 "nbformat": 4,
 "nbformat_minor": 5
}
